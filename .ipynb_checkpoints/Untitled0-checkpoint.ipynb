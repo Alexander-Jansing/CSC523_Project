{
 "metadata": {
  "name": "",
  "signature": "sha256:e93468d7d8ca33e6eea90191b8fdeae9a1ed0ba3ea3100e270342c1198d87a1b"
 },
 "nbformat": 3,
 "nbformat_minor": 0,
 "worksheets": [
  {
   "cells": [
    {
     "cell_type": "code",
     "collapsed": false,
     "input": [
      "myList = [[1,2],[3,4]]\n",
      "print myList[:][0]"
     ],
     "language": "python",
     "metadata": {},
     "outputs": [
      {
       "output_type": "stream",
       "stream": "stdout",
       "text": [
        "[1, 2]\n"
       ]
      }
     ],
     "prompt_number": 8
    },
    {
     "cell_type": "code",
     "collapsed": false,
     "input": [],
     "language": "python",
     "metadata": {},
     "outputs": []
    }
   ],
   "metadata": {}
  }
 ]
}